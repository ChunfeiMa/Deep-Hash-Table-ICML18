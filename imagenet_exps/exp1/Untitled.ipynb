{
 "cells": [
  {
   "cell_type": "code",
   "execution_count": 17,
   "metadata": {},
   "outputs": [],
   "source": [
    "import sys\n",
    "sys.path.append('../../configs')\n",
    "sys.path.append('../../utils')\n",
    "sys.path.append('../../tfops')\n",
    "\n",
    "# ../../utils\n",
    "from datasetmanager import DATASETMANAGER_DICT\n",
    "from format_op import params2id, listformat1, listformat2, numformat2\n",
    "from csv_op import CsvWriter2, CsvWriter, read_csv\n",
    "from writer import create_muldir, write_pkl\n",
    "from reader import read_pkl\n",
    "\n",
    "from transform_op import apply_tf_op, pairwise_distance_euclid_efficient\n",
    "# ./\n",
    "from local_config import ACTIVATE_K_SET, K_SET,\\\n",
    "                         DATASET, GPU_ID, BATCH_SIZE, NSCLASS, EPOCH,\\\n",
    "                         CONV_NAME, EMBED_M, LOSS_TYPE,\\\n",
    "                         BUCKET_D, ACTIVATE_K,\\\n",
    "                         HASH_DECAY_TYPE, HASH_DECAY_PARAM_TYPE,\\\n",
    "                         HASH_LOSS_TYPE, HASH_DISTANCE_TYPE,\\\n",
    "                         HASH_LAMBDA, HASH_MARGIN_ALPHA,\\\n",
    "                         PAIRWISE_LAMBDA,\\\n",
    "                         COLORS, RESULT_DIR, RESULT_DIR_READ\n",
    "from deepmetric import DeepMetric\n",
    "\n",
    "\n",
    "import numpy as np\n",
    "import itertools"
   ]
  },
  {
   "cell_type": "code",
   "execution_count": 2,
   "metadata": {},
   "outputs": [],
   "source": [
    "class struct:\n",
    "    pass"
   ]
  },
  {
   "cell_type": "code",
   "execution_count": 3,
   "metadata": {},
   "outputs": [],
   "source": [
    "args = struct()"
   ]
  },
  {
   "cell_type": "code",
   "execution_count": 7,
   "metadata": {},
   "outputs": [],
   "source": [
    "args.gpu=GPU_ID\n",
    "args.dataset=DATASET\n",
    "args.nbatch =BATCH_SIZE\n",
    "args.nsclass = NSCLASS\n",
    "args.epoch =EPOCH\n",
    "args.conv = CONV_NAME\n",
    "args.ltype = LOSS_TYPE\n",
    "args.m = EMBED_M\n",
    "args.hdt = HASH_DISTANCE_TYPE\n",
    "args.hltype = HASH_LOSS_TYPE\n",
    "args.hdtype = HASH_DECAY_TYPE\n",
    "args.hdptype = HASH_DECAY_PARAM_TYPE\n",
    "args.hma = HASH_MARGIN_ALPHA\n",
    "args.hlamb = HASH_LAMBDA\n",
    "args.plamb = PAIRWISE_LAMBDA\n",
    "args.k = ACTIVATE_K\n",
    "args.d = BUCKET_D"
   ]
  },
  {
   "cell_type": "code",
   "execution_count": 8,
   "metadata": {},
   "outputs": [],
   "source": [
    "args.k=1\n",
    "args.nbatch=128\n",
    "args.nsclass=64\n",
    "args.d = 32\n",
    "args.plamb=0.1\n",
    "args.hdptype='a3'"
   ]
  },
  {
   "cell_type": "code",
   "execution_count": 9,
   "metadata": {},
   "outputs": [],
   "source": [
    "args.ltype=args.hltype\n",
    "args.m = args.d\n",
    "if args.ltype=='npair':\n",
    "    args.nsclass = args.nbatch//2 \n",
    "\n",
    "FILE_ID = params2id(args.dataset, args.conv, args.ltype, args.m)\n",
    "\n",
    "if args.hltype=='npair':\n",
    "    args.nsclass = args.nbatch//2\n",
    "    assert args.nsclass==args.nbatch//2, \"In npair loss, nsclass should be half of batch size\"\n",
    "\n",
    "if args.hltype=='npair':\n",
    "    HASH_FILE_ID = FILE_ID+'_'+params2id(args.nbatch, args.nsclass, args.hltype, args.hdt, args.d, args.k, args.hlamb, args.plamb, args.hdtype, args.hdptype)\n",
    "else:\n",
    "    HASH_FILE_ID = FILE_ID+'_'+params2id(args.nbatch, args.nsclass, args.hltype, args.hdt, args.d, args.k, args.hma, args.plamb, args.hdtype, args.hdptype)"
   ]
  },
  {
   "cell_type": "code",
   "execution_count": 10,
   "metadata": {},
   "outputs": [
    {
     "data": {
      "text/plain": [
       "'imgnet32_conv2_npair_32_128_64_npair_hash1_32_1_0.003_0.1_stair_a3'"
      ]
     },
     "execution_count": 10,
     "metadata": {},
     "output_type": "execute_result"
    }
   ],
   "source": [
    "HASH_FILE_ID"
   ]
  },
  {
   "cell_type": "code",
   "execution_count": 11,
   "metadata": {},
   "outputs": [],
   "source": [
    "args.gpu=1"
   ]
  },
  {
   "cell_type": "code",
   "execution_count": 12,
   "metadata": {},
   "outputs": [],
   "source": [
    "SAVE_DIR = RESULT_DIR_READ+'metric/save/%s/'%FILE_ID\n",
    "HASH_LOG_DIR = RESULT_DIR+'hash/log/'\n",
    "HASH_CSV_DIR = RESULT_DIR+'hash/csv/'\n",
    "HASH_PKL_DIR = RESULT_DIR+'hash/pkl/'\n",
    "HASH_ASSET_DIR = RESULT_DIR+'hash/asset/'\n",
    "HASH_SAVE_DIR = RESULT_DIR+'hash/save/%s/'%HASH_FILE_ID\n",
    "HASH_BOARD_DIR = RESULT_DIR+'hash/board/%s/'%HASH_FILE_ID"
   ]
  },
  {
   "cell_type": "code",
   "execution_count": 13,
   "metadata": {},
   "outputs": [
    {
     "name": "stdout",
     "output_type": "stream",
     "text": [
      "Npy is read from /data_large/unsynced_store/maestro/dataset/Imagenet32_processed/train_img.npy\n",
      "Npy is read from /data_large/unsynced_store/maestro/dataset/Imagenet32_processed/train_label.npy\n",
      "Npy is read from /data_large/unsynced_store/maestro/dataset/Imagenet32_processed/val_img.npy\n",
      "Npy is read from /data_large/unsynced_store/maestro/dataset/Imagenet32_processed/val_label.npy\n",
      "Npy is read from /data_large/unsynced_store/maestro/dataset/Imagenet32_processed/test_img.npy\n",
      "Npy is read from /data_large/unsynced_store/maestro/dataset/Imagenet32_processed/test_label.npy\n",
      "Image shape : (1153044, 32, 32, 3)\n",
      "Label shape : (1153044,)\n",
      "Image shape : (50000, 32, 32, 3)\n",
      "Label shape : (50000,)\n",
      "Image shape : (50000, 32, 32, 3)\n",
      "Label shape : (50000,)\n"
     ]
    }
   ],
   "source": [
    "datasetmanager = DATASETMANAGER_DICT[args.dataset]\n",
    "# load data\n",
    "dm_train, dm_val, dm_test = datasetmanager(args.hltype, nsclass=args.nsclass) if args.hltype in ['triplet', 'npair'] else datasetmanager(args.hltype)\n",
    "dm_train.print_shape()\n",
    "dm_val.print_shape()\n",
    "dm_test.print_shape()"
   ]
  },
  {
   "cell_type": "code",
   "execution_count": 14,
   "metadata": {},
   "outputs": [
    {
     "name": "stderr",
     "output_type": "stream",
     "text": [
      "[0204 06:48:36] Setting train_dataset starts\n",
      "[0204 06:48:36] Setting train_dataset ends\n",
      "[0204 06:48:36] Setting val_dataset starts\n",
      "[0204 06:48:36] Setting val_dataset ends\n",
      "[0204 06:48:36] Setting test_dataset starts\n",
      "[0204 06:48:36] Setting test_dataset ends\n",
      "[0204 06:48:36] Model building starts\n",
      "[0204 06:48:40] Model building ends\n",
      "[0204 06:48:40] Restoring model starts...\n",
      "[0204 06:48:40] Restoring from ../../../exp_results/imagnet_exps/hash_metric1/metric/save/imgnet32_conv2_npair_32/model-100\n"
     ]
    },
    {
     "name": "stdout",
     "output_type": "stream",
     "text": [
      "Variables loaded from pretrained network\n",
      "    \n",
      "INFO:tensorflow:Restoring parameters from ../../../exp_results/imagnet_exps/hash_metric1/metric/save/imgnet32_conv2_npair_32/model-100\n"
     ]
    },
    {
     "name": "stderr",
     "output_type": "stream",
     "text": [
      "[0204 06:48:40] Restoring parameters from ../../../exp_results/imagnet_exps/hash_metric1/metric/save/imgnet32_conv2_npair_32/model-100\n",
      "[0204 06:48:40] Restoring model done.\n",
      "[0204 06:48:40] Model preparing test\n",
      "batch: 100%|##########| 782/782 [00:07<00:00, 109.33it/s]\n",
      "batch: 100%|##########| 782/782 [00:05<00:00, 133.52it/s]\n",
      "batch: 100%|##########| 391/391 [00:08<00:00, 45.16it/s]\n",
      "[0204 06:49:07] Calculating pairwise distance of validation data\n",
      "[0204 06:52:29] Model building train hash starts\n",
      "[0204 06:52:29] Model building train hash ends\n",
      "[0204 06:52:29] Model setting up train hash starts\n",
      "[0204 06:52:30] Model setting up train hash ends\n",
      "[0204 06:52:30] Restoring model starts...\n",
      "[0204 06:52:30] Restoring from ../../../exp_results/imagnet_exps/hash_metric2/hash/save/imgnet32_conv2_npair_32_128_64_npair_hash1_32_1_0.003_0.1_stair_a3/model-12\n"
     ]
    },
    {
     "name": "stdout",
     "output_type": "stream",
     "text": [
      "INFO:tensorflow:Restoring parameters from ../../../exp_results/imagnet_exps/hash_metric2/hash/save/imgnet32_conv2_npair_32_128_64_npair_hash1_32_1_0.003_0.1_stair_a3/model-12\n"
     ]
    },
    {
     "name": "stderr",
     "output_type": "stream",
     "text": [
      "[0204 06:52:30] Restoring parameters from ../../../exp_results/imagnet_exps/hash_metric2/hash/save/imgnet32_conv2_npair_32_128_64_npair_hash1_32_1_0.003_0.1_stair_a3/model-12\n",
      "[0204 06:52:30] Restoring model done.\n"
     ]
    }
   ],
   "source": [
    "model = DeepMetric(dm_train, dm_val, dm_test, HASH_LOG_DIR+HASH_FILE_ID+'.log', args)\n",
    "model.build(False)\n",
    "model.restore(save_dir=SAVE_DIR)\n",
    "model.prepare_test()\n",
    "model.build_hash()\n",
    "model.set_up_train_hash()\n",
    "model.restore_hash(save_dir=HASH_SAVE_DIR)"
   ]
  },
  {
   "cell_type": "code",
   "execution_count": 18,
   "metadata": {},
   "outputs": [
    {
     "name": "stderr",
     "output_type": "stream",
     "text": [
      "[0204 06:54:54] Model preparing test\n",
      "batch: 100%|##########| 782/782 [00:05<00:00, 137.41it/s]\n",
      "batch: 100%|##########| 782/782 [00:05<00:00, 138.65it/s]\n"
     ]
    }
   ],
   "source": [
    "model.logger.info(\"Model preparing test\")\n",
    "def custom_apply_tf_op(inputs, output_gate):\n",
    "    return apply_tf_op(inputs=inputs, session=model.sess, input_gate=model.anc_img, output_gate=output_gate, batch_size=model.args.nbatch//2, dim=4, train_gate=model.istrain)\n",
    "model.test_k_hash = custom_apply_tf_op(inputs=model.test_image, output_gate=model.anc_embed_k_hash)\n",
    "model.val_k_hash = custom_apply_tf_op(inputs=model.val_image, output_gate=model.anc_embed_k_hash)"
   ]
  },
  {
   "cell_type": "code",
   "execution_count": 20,
   "metadata": {},
   "outputs": [],
   "source": [
    "from np_op import activate_k_2D"
   ]
  },
  {
   "cell_type": "code",
   "execution_count": 22,
   "metadata": {},
   "outputs": [],
   "source": [
    "activate_k = 1"
   ]
  },
  {
   "cell_type": "code",
   "execution_count": 23,
   "metadata": {},
   "outputs": [
    {
     "name": "stderr",
     "output_type": "stream",
     "text": [
      "batch: 100%|##########| 500/500 [00:00<00:00, 899.10it/s]\n",
      "batch: 100%|##########| 500/500 [00:00<00:00, 895.24it/s]\n"
     ]
    }
   ],
   "source": [
    "model.regen_session()\n",
    "test_k_activate = activate_k_2D(model.test_k_hash, k=activate_k, session=model.sess) # [ntest, args.d]\n",
    "val_k_activate = activate_k_2D(model.val_k_hash, k=activate_k, session=model.sess)"
   ]
  },
  {
   "cell_type": "code",
   "execution_count": 24,
   "metadata": {},
   "outputs": [
    {
     "data": {
      "text/plain": [
       "(50000, 50000)"
      ]
     },
     "execution_count": 24,
     "metadata": {},
     "output_type": "execute_result"
    }
   ],
   "source": [
    "model.val_p_dist.shape"
   ]
  },
  {
   "cell_type": "code",
   "execution_count": 25,
   "metadata": {},
   "outputs": [
    {
     "name": "stderr",
     "output_type": "stream",
     "text": [
      "batch: 100%|##########| 391/391 [00:01<00:00, 214.67it/s]\n",
      "[0204 06:56:17] Calculating pairwise distance from test embeddings\n"
     ]
    }
   ],
   "source": [
    "model.regen_session()\n",
    "model.te_te_distance = pairwise_distance_euclid_efficient(input1=model.test_embed, input2=model.test_embed, session=model.sess, batch_size=128)\n",
    "model.logger.info(\"Calculating pairwise distance from test embeddings\")"
   ]
  },
  {
   "cell_type": "code",
   "execution_count": 27,
   "metadata": {},
   "outputs": [
    {
     "data": {
      "text/plain": [
       "(50000, 50000)"
      ]
     },
     "execution_count": 27,
     "metadata": {},
     "output_type": "execute_result"
    }
   ],
   "source": [
    "model.te_te_distance.shape"
   ]
  },
  {
   "cell_type": "code",
   "execution_count": 28,
   "metadata": {},
   "outputs": [],
   "source": [
    "k_set =[1,4,16]"
   ]
  },
  {
   "cell_type": "code",
   "execution_count": 29,
   "metadata": {},
   "outputs": [
    {
     "data": {
      "text/plain": [
       "1000"
      ]
     },
     "execution_count": 29,
     "metadata": {},
     "output_type": "execute_result"
    }
   ],
   "source": [
    "model.ncls_val"
   ]
  },
  {
   "cell_type": "code",
   "execution_count": 30,
   "metadata": {},
   "outputs": [
    {
     "data": {
      "text/plain": [
       "1000"
      ]
     },
     "execution_count": 30,
     "metadata": {},
     "output_type": "execute_result"
    }
   ],
   "source": [
    "model.ncls_test"
   ]
  },
  {
   "cell_type": "code",
   "execution_count": 32,
   "metadata": {},
   "outputs": [],
   "source": [
    "from evaluation import evaluate_hashtable2"
   ]
  },
  {
   "cell_type": "code",
   "execution_count": 33,
   "metadata": {},
   "outputs": [
    {
     "name": "stderr",
     "output_type": "stream",
     "text": [
      "[0204 06:59:37] test_nmi = 0.374\n",
      "[0204 06:59:37] te_te_suf 1/4/16 = 31.065240447/31.065240447/31.065240447\n",
      "[0204 06:59:37] te_te_precision_at_k 1/4/16 = .12714/.1098/.088675\n",
      "[0204 06:59:37] te_te_recall_at_k 1/4/16 = .12714/.27084/.47048\n",
      "[0204 06:59:37] te_te_precision_ir = 0.012\n",
      "[0204 06:59:37] te_te_recall_ir = 0.375\n"
     ]
    }
   ],
   "source": [
    "performance = evaluate_hashtable2(test_hash_key=test_k_activate, te_te_distance=model.te_te_distance,\\\n",
    "                                  te_te_query_key=test_k_activate, te_te_query_value=model.test_k_hash,\\\n",
    "                                  test_label=model.test_label, ncls_test=model.ncls_test,\\\n",
    "                                  activate_k=activate_k, k_set=k_set, logger=model.logger)"
   ]
  },
  {
   "cell_type": "code",
   "execution_count": null,
   "metadata": {},
   "outputs": [],
   "source": [
    "performance_hash = model.test_hash_metric(args.k, K_SET)"
   ]
  }
 ],
 "metadata": {
  "kernelspec": {
   "display_name": "Python 3",
   "language": "python",
   "name": "python3"
  },
  "language_info": {
   "codemirror_mode": {
    "name": "ipython",
    "version": 3
   },
   "file_extension": ".py",
   "mimetype": "text/x-python",
   "name": "python",
   "nbconvert_exporter": "python",
   "pygments_lexer": "ipython3",
   "version": "3.5.4"
  }
 },
 "nbformat": 4,
 "nbformat_minor": 2
}
